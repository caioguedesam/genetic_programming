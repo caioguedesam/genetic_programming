{
 "cells": [
  {
   "cell_type": "code",
   "execution_count": 98,
   "metadata": {},
   "outputs": [],
   "source": [
    "import numpy as np\n",
    "import pandas as pd\n",
    "import random as rd\n",
    "import operator"
   ]
  },
  {
   "cell_type": "code",
   "execution_count": 200,
   "metadata": {},
   "outputs": [],
   "source": [
    "def div0(dividend, divisor):\n",
    "    if divisor == 0:\n",
    "        return 1\n",
    "    else:\n",
    "        return dividend / divisor\n",
    "\n",
    "class Tree:\n",
    "    def __init__(self):\n",
    "        self.left = None\n",
    "        self.right = None\n",
    "        self.data = None\n",
    "\n",
    "    def size(self):\n",
    "        size = 0\n",
    "        if self.left:\n",
    "            size += self.left.size()\n",
    "        if self.right:\n",
    "            size += self.right.size()\n",
    "        return size + 1\n",
    "    \n",
    "    def depth(self):\n",
    "        left_depth = self.left.depth() if self.left else 0\n",
    "        right_depth = self.right.depth() if self.right else 0\n",
    "        return max(left_depth, right_depth) + 1\n",
    "    \n",
    "    # Avalia o valor da função descrita pela árvore, usando os atributos de duas entradas\n",
    "    # (em attr1/2) e os operadores em ops\n",
    "    def evaluate(self, attr1, attr2, ops):\n",
    "        # Valor do nó é terminal\n",
    "        if self.data not in ops:\n",
    "            # Verificando se é um índice da primeira ou da segunda entrada\n",
    "            attr_count = len(attr1)\n",
    "            if self.data // attr_count == 0:\n",
    "                return float(attr1[self.data])\n",
    "            else:\n",
    "                index = self.data % attr_count\n",
    "                return float(attr2[index])\n",
    "        \n",
    "        # Valor do nó é não-terminal\n",
    "        left_value = self.left.evaluate(attr1, attr2, ops)\n",
    "        right_value = self.right.evaluate(attr1, attr2, ops)\n",
    "        return ops[self.data](left_value, right_value)\n",
    "        \n",
    "    # Função de auxílio para imprimir a árvore\n",
    "    def print(self):\n",
    "        if self.left:\n",
    "            print(\"Printing left\")\n",
    "            self.left.print()\n",
    "        if self.right:\n",
    "            print(\"Printing right\")\n",
    "            self.right.print()\n",
    "        print(self.data)\n",
    "\n",
    "# Esclarecer dúvida sobre tamanho no máximo 7\n",
    "# Cria um indivíduo para a população inicial usando GROW\n",
    "def create_initial_individual(depth, max_depth, nonterminals, terminals, full=False):\n",
    "    node = Tree()\n",
    "    if depth == max_depth:\n",
    "        node.data = rd.choice(terminals)\n",
    "        return node\n",
    "    else:\n",
    "        functions = nonterminals + terminals\n",
    "        if not full:\n",
    "            random_function = rd.choice(functions)\n",
    "        else:\n",
    "            random_function = rd.choice(nonterminals)\n",
    "        node.data = random_function\n",
    "        if random_function in terminals:\n",
    "            return node\n",
    "        else:\n",
    "            node.left = create_tree_grow(depth + 1, max_depth, nonterminals, terminals)\n",
    "            node.right = create_tree_grow(depth + 1, max_depth, nonterminals, terminals)\n",
    "            return node"
   ]
  },
  {
   "cell_type": "code",
   "execution_count": 199,
   "metadata": {},
   "outputs": [
    {
     "name": "stdout",
     "output_type": "stream",
     "text": [
      "Printing left\n",
      "4\n",
      "Printing right\n",
      "13\n",
      "*\n",
      "~~~~~~~~~~~~~~~~~~~~~\n",
      "Evaluates to:\n",
      "1\n",
      "2\n",
      "52.0\n"
     ]
    }
   ],
   "source": [
    "# Funções para operar em terminais\n",
    "operators = {\n",
    "    '+': operator.add,\n",
    "    '-': operator.sub,\n",
    "    '*': operator.mul,\n",
    "    '/': div0,\n",
    "}\n",
    "nonterminals = list(operators.keys())\n",
    "# Terminais (9 atributos em cada entrada das bases de dados)\n",
    "terminals = np.arange(18).tolist()\n",
    "# Atributos de teste (2 entradas de teste, cada uma com 9 atributos)\n",
    "attr1 = np.arange(0,9).tolist()\n",
    "attr2 = np.arange(9,18).tolist()\n",
    "\n",
    "# Teste\n",
    "tree_test = create_initial_individual(0, 7, nonterminals, terminals, True)\n",
    "tree_test.print()\n",
    "print('~~~~~~~~~~~~~~~~~~~~~')\n",
    "print('Evaluates to:')\n",
    "print(tree_test.evaluate(attr1, attr2, ops))"
   ]
  },
  {
   "cell_type": "code",
   "execution_count": 274,
   "metadata": {},
   "outputs": [
    {
     "name": "stdout",
     "output_type": "stream",
     "text": [
      "Printing left\n",
      "Printing left\n",
      "7\n",
      "Printing right\n",
      "11\n",
      "*\n",
      "Printing right\n",
      "16\n",
      "*\n",
      "~~~~~~~~~~~~~~~~~~~~~\n",
      "Evaluates to:\n",
      "0.0\n"
     ]
    }
   ],
   "source": [
    "df = pd.read_csv('glass_train.csv')\n",
    "test_entries = df.sample(2)\n",
    "test_entries = test_entries.drop(test_entries.columns[-1], axis=1)\n",
    "entry_1 = test_entries.iloc[0].tolist()\n",
    "entry_2 = test_entries.iloc[1].tolist()\n",
    "\n",
    "terminal_count = len(entry_1) + len(entry_2)\n",
    "terminals = np.arange(terminal_count).tolist()\n",
    "\n",
    "tree_test2 = create_initial_individual(0, 9, nonterminals, terminals, True)\n",
    "tree_test2.print()\n",
    "print('~~~~~~~~~~~~~~~~~~~~~')\n",
    "print('Evaluates to:')\n",
    "print(tree_test2.evaluate(entry_1, entry_2, ops))"
   ]
  },
  {
   "cell_type": "code",
   "execution_count": null,
   "metadata": {},
   "outputs": [],
   "source": []
  }
 ],
 "metadata": {
  "kernelspec": {
   "display_name": "Python 3",
   "language": "python",
   "name": "python3"
  },
  "language_info": {
   "codemirror_mode": {
    "name": "ipython",
    "version": 3
   },
   "file_extension": ".py",
   "mimetype": "text/x-python",
   "name": "python",
   "nbconvert_exporter": "python",
   "pygments_lexer": "ipython3",
   "version": "3.8.5"
  }
 },
 "nbformat": 4,
 "nbformat_minor": 4
}
