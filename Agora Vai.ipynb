{
 "cells": [
  {
   "cell_type": "code",
   "execution_count": 21,
   "metadata": {},
   "outputs": [],
   "source": [
    "import numpy as np\n",
    "import pandas as pd\n",
    "import operator as op\n",
    "import random as rd\n",
    "from anytree import Node, RenderTree, AsciiStyle\n",
    "from anytree.cachedsearch import findall\n",
    "from sklearn.metrics.cluster import v_measure_score\n",
    "from pyclustering.cluster.kmeans import kmeans\n",
    "from pyclustering.cluster.center_initializer import kmeans_plusplus_initializer\n",
    "from pyclustering.utils.metric import distance_metric, type_metric\n",
    "import fastcache"
   ]
  },
  {
   "cell_type": "code",
   "execution_count": 25,
   "metadata": {},
   "outputs": [],
   "source": [
    "# Definindo operadores e terminais\n",
    "def div0(a, b): return 1 if b == 0 else a/b\n",
    "ops = {\n",
    "    '+': op.add,\n",
    "    '-': op.sub,\n",
    "    '*': op.mul,\n",
    "    '/': div0,\n",
    "    'max': max,\n",
    "    'min': min,\n",
    "}\n"
   ]
  }
 ],
 "metadata": {
  "kernelspec": {
   "display_name": "Python 3",
   "language": "python",
   "name": "python3"
  },
  "language_info": {
   "codemirror_mode": {
    "name": "ipython",
    "version": 3
   },
   "file_extension": ".py",
   "mimetype": "text/x-python",
   "name": "python",
   "nbconvert_exporter": "python",
   "pygments_lexer": "ipython3",
   "version": "3.8.5"
  }
 },
 "nbformat": 4,
 "nbformat_minor": 4
}
