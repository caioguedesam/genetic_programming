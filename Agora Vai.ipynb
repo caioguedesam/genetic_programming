{
 "cells": [
  {
   "cell_type": "code",
   "execution_count": 219,
   "metadata": {},
   "outputs": [],
   "source": [
    "import numpy as np\n",
    "import pandas as pd\n",
    "import operator as op\n",
    "import random as rd\n",
    "from copy import deepcopy\n",
    "from anytree import Node, RenderTree, AsciiStyle, PreOrderIter\n",
    "from anytree.cachedsearch import findall\n",
    "from sklearn.metrics.cluster import v_measure_score\n",
    "from pyclustering.cluster.kmeans import kmeans\n",
    "from pyclustering.cluster.center_initializer import kmeans_plusplus_initializer\n",
    "from pyclustering.utils.metric import distance_metric, type_metric"
   ]
  },
  {
   "cell_type": "code",
   "execution_count": 2,
   "metadata": {},
   "outputs": [],
   "source": [
    "# Dataframe e variáveis associadas\n",
    "pd.set_option('display.max_rows', None)\n",
    "df = pd.read_csv('glass_train.csv')\n",
    "cluster_column = df.columns.values[-1]\n",
    "cluster_count = df[cluster_column].nunique()\n",
    "df_unclass = df.drop([cluster_column], axis=1)\n",
    "df_attr = len(df_unclass.columns)"
   ]
  },
  {
   "cell_type": "code",
   "execution_count": 3,
   "metadata": {},
   "outputs": [],
   "source": [
    "# Definindo operadores e terminais\n",
    "def div0(a, b): return 1 if b == 0 else a/b\n",
    "ops = {\n",
    "    '+': op.add,\n",
    "    '-': op.sub,\n",
    "    '*': op.mul,\n",
    "    '/': div0,\n",
    "    'max': max,\n",
    "    'min': min,\n",
    "}\n",
    "nonterminals = list(ops.keys())\n",
    "terminals = [str(i) + 'a' for i in range(df_attr)]\n",
    "terminals += [str(i) + 'b' for i in range(df_attr)]\n",
    "terminals += ['c']\n",
    "def random_constant(min_=-1000, max_=1000): return rd.uniform(min_, max_)\n",
    "def get_terminal_value(term, row1, row2):\n",
    "    t = str(term[-1])\n",
    "    # Constante\n",
    "    if t != 'a' and t != 'b': return float(term)\n",
    "    # Terminal comum\n",
    "    index = int(term[:-1])\n",
    "    return row1[index] if t == 'a' else row2[index]\n",
    "def random_terminal():\n",
    "    t = rd.choice(terminals)\n",
    "    return random_constant() if t == 'c' else t\n",
    "def random_nonterminal(): return rd.choice(nonterminals)"
   ]
  },
  {
   "cell_type": "code",
   "execution_count": 4,
   "metadata": {},
   "outputs": [],
   "source": [
    "# Criação de árvores para população inicial\n",
    "max_h = 7\n",
    "\n",
    "def create_tree(h = 0, full = False):\n",
    "    node = Node('')\n",
    "    # Retorna um terminal se a árvore passar do tamanho máximo\n",
    "    if h >= max_h:\n",
    "        node.name = random_terminal()\n",
    "    else:\n",
    "        # Método full: escolhe não terminais até não poder mais\n",
    "        if full: value = random_nonterminal()\n",
    "        # Método grow: escolhe entre terminais ou não terminais\n",
    "        else: value = random_terminal() if rd.randint(0,1) == 0 else random_nonterminal()\n",
    "        node.name = value\n",
    "        if value in nonterminals:\n",
    "            left_child = create_tree(h = h+1, full = full)\n",
    "            left_child.parent = node\n",
    "            right_child = create_tree(h = h+1, full = full)\n",
    "            right_child.parent = node\n",
    "    return node\n",
    "\n",
    "# Imprime uma árvore\n",
    "def print_tree(t):\n",
    "    for pre, _, node in RenderTree(t):\n",
    "        print(\"%s%s\" % (pre, node.name))\n",
    "        \n",
    "# Função que calcula a distância entre dois pontos do dataframe com a árvore\n",
    "def evaluate_tree(t, row1, row2):\n",
    "    v = str(t.name)\n",
    "    if v in nonterminals:\n",
    "        lhs = evaluate_tree(t.children[0], row1, row2)\n",
    "        rhs = evaluate_tree(t.children[1], row1, row2)\n",
    "        return ops[v](lhs, rhs)\n",
    "    else:\n",
    "        if v[-1] != 'a' and v[-1] != 'b':\n",
    "            return float(v)\n",
    "        else:\n",
    "            index = int(v[:-1])\n",
    "            return row1[index] if v[-1] == 'a' else row2[index]\n",
    "\n",
    "evaluated_tree = None\n",
    "def evaluate(row1, row2): return evaluate_tree(evaluated_tree, row1, row2)"
   ]
  },
  {
   "cell_type": "code",
   "execution_count": 5,
   "metadata": {},
   "outputs": [],
   "source": [
    "# Inicializando os centros uma única vez para resultados de fitness não mudarem entre chamadas\n",
    "df_unclass = df_unclass.drop(['pred'], axis=1, errors='ignore')\n",
    "init_centers = kmeans_plusplus_initializer(df_unclass, cluster_count).initialize()\n",
    "\n",
    "# Calcula fitness usando kmeans e v measure em cima da função de um indivíduo\n",
    "def fitness(t):\n",
    "    global df_unclass\n",
    "    global evaluated_tree\n",
    "    evaluated_tree = t\n",
    "    # Primeiro, descarta previsões passadas\n",
    "    df_unclass = df_unclass.drop(['pred'], axis=1, errors='ignore')\n",
    "    # Depois, roda o kmeans para o clustering\n",
    "    mt = distance_metric(type_metric.USER_DEFINED, func = evaluate)\n",
    "    #init_centers = kmeans_plusplus_initializer(df_unclass, cluster_count).initialize()\n",
    "    kmeans_inst = kmeans(df_unclass, init_centers, metric = mt, itermax = 20)\n",
    "    kmeans_inst.process()\n",
    "    kmeans_clusters = kmeans_inst.get_clusters()\n",
    "    # Para cada cluster, coloca os valores como previsões\n",
    "    for i in range(len(kmeans_clusters)):\n",
    "        df_unclass.loc[kmeans_clusters[i], 'pred'] = df.iloc[kmeans_clusters[i]].groupby(cluster_column).size().idxmax()\n",
    "    # Compara as previsões com os valores reais com v measure\n",
    "    fit = v_measure_score(df[cluster_column], df_unclass['pred'])\n",
    "    t.fitness = fit\n",
    "    return fit"
   ]
  },
  {
   "cell_type": "code",
   "execution_count": null,
   "metadata": {},
   "outputs": [],
   "source": [
    "t = create_tree()\n",
    "print_tree(t)\n",
    "print(t.parent)"
   ]
  },
  {
   "cell_type": "code",
   "execution_count": 414,
   "metadata": {},
   "outputs": [],
   "source": [
    "# Operadores genéticos e variáveis associadas\n",
    "crossover_prob = 0.9\n",
    "mutation_prob = 0.05\n",
    "\n",
    "# Seleciona um nó aleatório de uma árvore\n",
    "def random_node(t):\n",
    "    nodes = [node for node in PreOrderIter(t)]\n",
    "    return rd.choice(nodes)\n",
    "\n",
    "def add_left_child(t, c): t.children = [c] + list(t.children)\n",
    "def add_right_child(t, c): t.children = list(t.children) + [c]\n",
    "def replace_left_child(t, c):\n",
    "    if len(t.children) >= 2: t.children = (c,) + t.children[1:]\n",
    "    else: t.children = (c,) + t.children\n",
    "def replace_right_child(t, c):\n",
    "    if len(t.children) >= 2: t.children = t.children[:-1] + (c,)\n",
    "    else: t.children += (c,)\n",
    "\n",
    "def is_left_child(t, c): return c.name == t.children[0].name\n",
    "def is_right_child(t, c): return c.name == t.children[1].name\n",
    "\n",
    "# Crossover\n",
    "def crossover(t1_original, t2_original):\n",
    "    t1, t2 = deepcopy(t1_original), deepcopy(t2_original)\n",
    "    node1, node2 = random_node(t1), random_node(t2)\n",
    "    #print('Node1: ' + str(node1))\n",
    "    #print('Node2: ' + str(node2))\n",
    "    parent1, parent2 = node1.parent, node2.parent\n",
    "    parent1_c, parent2_c = deepcopy(parent1), deepcopy(parent2)\n",
    "    #print('Parent1: ' + str(parent1) if parent1 != None else print('Parent1: --'))\n",
    "    #print('Parent2: ' + str(parent2) if parent2 != None else print('Parent2: --'))\n",
    "    \n",
    "    if parent1_c == None: t1 = node2\n",
    "    elif is_left_child(parent1_c, node1): replace_left_child(parent1, node2)\n",
    "    elif is_right_child(parent1_c, node1): replace_right_child(parent1, node2)\n",
    "    else: raise IndexError('Couldnt find ' + str(node1) + ' in children of ' + str(parent1))\n",
    "    \n",
    "    if parent2_c == None: t2 = node1\n",
    "    elif is_left_child(parent2_c, node2): replace_left_child(parent2, node1)\n",
    "    elif is_right_child(parent2_c, node2): replace_right_child(parent2, node1)\n",
    "    else: raise IndexError('Couldnt find ' + str(node2) + ' in children of ' + str(parent2))\n",
    "    \n",
    "    return t1, t2"
   ]
  },
  {
   "cell_type": "code",
   "execution_count": 405,
   "metadata": {},
   "outputs": [
    {
     "name": "stdout",
     "output_type": "stream",
     "text": [
      "x0\n",
      "├── x1\n",
      "└── x2\n",
      "y0\n",
      "├── y1\n",
      "│   ├── y2\n",
      "│   └── y3\n",
      "└── y4\n"
     ]
    }
   ],
   "source": [
    "x0 = Node('x0')\n",
    "x1 = Node('x1')\n",
    "x2 = Node('x2', parent = x0)\n",
    "add_left_child(x0, x1)\n",
    "print_tree(x0)\n",
    "\n",
    "y0 = Node('y0')\n",
    "y1 = Node('y1')\n",
    "y2 = Node('y2')\n",
    "y3 = Node('y3')\n",
    "y4 = Node('y4')\n",
    "add_left_child(y0, y1)\n",
    "add_left_child(y1, y2)\n",
    "add_right_child(y1, y3)\n",
    "add_right_child(y0, y4)\n",
    "print_tree(y0)"
   ]
  },
  {
   "cell_type": "code",
   "execution_count": 412,
   "metadata": {
    "scrolled": true
   },
   "outputs": [
    {
     "name": "stdout",
     "output_type": "stream",
     "text": [
      "Node1: Node('/x0')\n",
      "Node2: Node('/y0')\n",
      "Parent1: --\n",
      "None\n",
      "Parent2: --\n",
      "None\n"
     ]
    }
   ],
   "source": [
    "new_x, new_y = crossover(x0, y0)"
   ]
  },
  {
   "cell_type": "code",
   "execution_count": 413,
   "metadata": {},
   "outputs": [
    {
     "name": "stdout",
     "output_type": "stream",
     "text": [
      "y0\n",
      "├── y1\n",
      "│   ├── y2\n",
      "│   └── y3\n",
      "└── y4\n",
      "x0\n",
      "├── x1\n",
      "└── x2\n"
     ]
    }
   ],
   "source": [
    "print_tree(new_x)\n",
    "print_tree(new_y)"
   ]
  },
  {
   "cell_type": "code",
   "execution_count": 417,
   "metadata": {},
   "outputs": [
    {
     "data": {
      "text/plain": [
       "[1.5159, 12.82, 3.52, 1.9, 72.86, 0.69, 7.97, 0.0, 0.0, 2.0]"
      ]
     },
     "execution_count": 417,
     "metadata": {},
     "output_type": "execute_result"
    }
   ],
   "source": [
    "df.iloc[0].tolist()"
   ]
  }
 ],
 "metadata": {
  "kernelspec": {
   "display_name": "Python 3",
   "language": "python",
   "name": "python3"
  },
  "language_info": {
   "codemirror_mode": {
    "name": "ipython",
    "version": 3
   },
   "file_extension": ".py",
   "mimetype": "text/x-python",
   "name": "python",
   "nbconvert_exporter": "python",
   "pygments_lexer": "ipython3",
   "version": "3.8.5"
  }
 },
 "nbformat": 4,
 "nbformat_minor": 4
}
