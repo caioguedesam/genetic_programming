{
 "cells": [
  {
   "cell_type": "code",
   "execution_count": 4,
   "metadata": {},
   "outputs": [
    {
     "name": "stdout",
     "output_type": "stream",
     "text": [
      "0.10.1.2\n"
     ]
    }
   ],
   "source": [
    "# Manipulação dos dados\n",
    "import pandas as pd\n",
    "\n",
    "# Métrica FMI\n",
    "from sklearn.metrics.cluster import fowlkes_mallows_score\n",
    "\n",
    "# Funções para clustering utilizando PyClustering\n",
    "# Importante: para realização do TP é imprescindível que seu PyClustering esteja na versão 0.10.1 ou superior\n",
    "from pyclustering.cluster.kmeans import kmeans\n",
    "from pyclustering.cluster.center_initializer import kmeans_plusplus_initializer\n",
    "from pyclustering.utils.metric import distance_metric, type_metric\n",
    "\n",
    "# Checa versão da biblioteca PyClustering\n",
    "import pyclustering\n",
    "print(pyclustering.__version__ )"
   ]
  },
  {
   "cell_type": "markdown",
   "metadata": {},
   "source": [
    "## Leitura dos dados"
   ]
  },
  {
   "cell_type": "code",
   "execution_count": 6,
   "metadata": {},
   "outputs": [],
   "source": [
    "\"\"\"\n",
    "O dataset iris não deve ser utilizado no desenvolvimento do Trabalho Prático\n",
    "\"\"\"\n",
    "# Leitura dos dados\n",
    "df = pd.read_csv('iris.csv')\n",
    "# Seleciona atributos a serem utilizados para clusterizar os dados\n",
    "X = df.drop(['target'], axis=1)"
   ]
  },
  {
   "cell_type": "markdown",
   "metadata": {},
   "source": [
    "## Definição da função de distância"
   ]
  },
  {
   "cell_type": "code",
   "execution_count": 7,
   "metadata": {},
   "outputs": [],
   "source": [
    "# Modelo de função de distância aceita pela biblioteca PyClustering\n",
    "def my_manhattan(point1, point2):\n",
    "    \"\"\"\n",
    "    input:\n",
    "        point1 e point2 = pontos utilizados no cálculo da distância\n",
    "    output:\n",
    "        result = distância entre os dois pontos\n",
    "    \"\"\"\n",
    "    dimension = len(point1)\n",
    "    result = 0.0\n",
    "    for i in range(dimension):\n",
    "        result += abs(point1[i] - point2[i]) * 0.1\n",
    "    return result"
   ]
  },
  {
   "cell_type": "markdown",
   "metadata": {},
   "source": [
    "## Treinamento do Modelo"
   ]
  },
  {
   "cell_type": "code",
   "execution_count": 8,
   "metadata": {},
   "outputs": [],
   "source": [
    "# Instancia a função de distância\n",
    "manhattan_metric = distance_metric(type_metric.USER_DEFINED, func=my_manhattan)\n",
    "# define número de clusters\n",
    "k = 3\n",
    "# Inicializa centróides utilizando método K-Means++\n",
    "initial_centers = kmeans_plusplus_initializer(X, k).initialize()\n",
    "# cria instância do K-Means utilizando sua métrica de distância\n",
    "kmeans_instance = kmeans(X, initial_centers, metric=manhattan_metric)\n",
    "# treina o modelo\n",
    "kmeans_instance.process()\n",
    "# recupera os clusters gerados\n",
    "clusters = kmeans_instance.get_clusters()"
   ]
  },
  {
   "cell_type": "markdown",
   "metadata": {},
   "source": [
    "## Avaliação do Modelo"
   ]
  },
  {
   "cell_type": "code",
   "execution_count": 10,
   "metadata": {},
   "outputs": [
    {
     "data": {
      "text/plain": [
       "0.81254733737563"
      ]
     },
     "execution_count": 10,
     "metadata": {},
     "output_type": "execute_result"
    }
   ],
   "source": [
    "\"\"\"\n",
    "Importante: o índice do cluster gerado não é necessariamente \n",
    "a classe prevista por aquele cluster.\n",
    "\"\"\"\n",
    "# Label prevista pelo cluster 0\n",
    "df.loc[clusters[0],'y_pred'] = df.loc[clusters[0]].groupby('target').size().idxmax()\n",
    "# Label prevista pelo cluster 1\n",
    "df.loc[clusters[1],'y_pred'] = df.loc[clusters[1]].groupby('target').size().idxmax()\n",
    "# Label prevista pelo cluster 2\n",
    "df.loc[clusters[2],'y_pred'] = df.loc[clusters[2]].groupby('target').size().idxmax()\n",
    "\n",
    "# Calcula FMI\n",
    "fowlkes_mallows_score(df.target, df.y_pred)"
   ]
  },
  {
   "cell_type": "markdown",
   "metadata": {},
   "source": [
    "# Baseline: Distância Euclidiana\n",
    "## Treinamento do Modelo"
   ]
  },
  {
   "cell_type": "code",
   "execution_count": 11,
   "metadata": {},
   "outputs": [],
   "source": [
    "# define número de clusters\n",
    "k = 3\n",
    "# Inicializa centróides utilizando método K-Means++\n",
    "initial_centers = kmeans_plusplus_initializer(X, k).initialize()\n",
    "# cria instância do K-Means utilizando distância Euclidiana\n",
    "kmeans_instance = kmeans(X, initial_centers)\n",
    "# run cluster analysis and obtain results\n",
    "kmeans_instance.process()\n",
    "# recupera os clusters gerados\n",
    "clusters = kmeans_instance.get_clusters()"
   ]
  },
  {
   "cell_type": "markdown",
   "metadata": {},
   "source": [
    "## Avaliação do Modelo"
   ]
  },
  {
   "cell_type": "code",
   "execution_count": 13,
   "metadata": {},
   "outputs": [
    {
     "data": {
      "text/plain": [
       "0.8208080729114153"
      ]
     },
     "execution_count": 13,
     "metadata": {},
     "output_type": "execute_result"
    }
   ],
   "source": [
    "# Label prevista pelo cluster 0\n",
    "df.loc[clusters[0],'y_pred'] = df.loc[clusters[0]].groupby('target').size().idxmax()\n",
    "# Label prevista pelo cluster 1\n",
    "df.loc[clusters[1],'y_pred'] = df.loc[clusters[1]].groupby('target').size().idxmax()\n",
    "# Label prevista pelo cluster 2\n",
    "df.loc[clusters[2],'y_pred'] = df.loc[clusters[2]].groupby('target').size().idxmax()\n",
    "\n",
    "# Calcula FMI\n",
    "fowlkes_mallows_score(df.target, df.y_pred)"
   ]
  },
  {
   "cell_type": "code",
   "execution_count": null,
   "metadata": {},
   "outputs": [],
   "source": []
  }
 ],
 "metadata": {
  "kernelspec": {
   "display_name": "Python 3",
   "language": "python",
   "name": "python3"
  },
  "language_info": {
   "codemirror_mode": {
    "name": "ipython",
    "version": 3
   },
   "file_extension": ".py",
   "mimetype": "text/x-python",
   "name": "python",
   "nbconvert_exporter": "python",
   "pygments_lexer": "ipython3",
   "version": "3.8.5"
  }
 },
 "nbformat": 4,
 "nbformat_minor": 4
}
